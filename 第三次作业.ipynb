{
 "cells": [
  {
   "cell_type": "markdown",
   "metadata": {},
   "source": [
    "# \n",
    "第一题"
   ]
  },
  {
   "cell_type": "code",
   "execution_count": 11,
   "metadata": {},
   "outputs": [],
   "source": [
    "import requests"
   ]
  },
  {
   "cell_type": "code",
   "execution_count": 6,
   "metadata": {},
   "outputs": [
    {
     "data": {
      "text/plain": [
       "'<!--[192.168.0.75]   [2018-06-13 00:37:15] [v2]-->\\r\\n<!DOCTYPE html PUBLIC \"-//W3C//DTD XHTML 1.0 Transitional//EN\"\"http://www.w3.org/TR/xhtml1/DTD/xhtml1-transitional.dtd\">\\r\\n<html xmlns=\"http://www.w3.org/1999/xhtml\">\\r\\n<head>\\r\\n  <meta http-equiv=\"Content-Type\" content=\"text/html; charset=utf-8\" />\\r\\n  <meta name=\"mobile-agent\" content=\"format=html5;url=http://h5.17k.com/book/2811930.html\" />\\r\\n  <script type=\"text/javascript\" src=\"http://img.17k.com/2015/Q/Q.js\"></script>\\r\\n  <link href=\"http://img.17k.com/2015/skin/main.css\" rel=\"stylesheet\" type=\"text/css\" />\\r\\n  <title>一品兵王最新章节(致命黑球),一品兵王无弹窗免费全文阅读-17K小说网</title>\\r\\n      <title>一品兵王最新章节(致命黑球),一品兵王无弹窗免费全文阅读-17K小说网</title>\\r\\n    <meta name=\"Description\"\\r\\n          content=\"一品兵王是作者致命黑球倾情打造的一部都市小说小说，17K小说网第一时间提供一品兵王最新章节以及一品兵王全文阅读。页面清爽无广告，访问速度快。\" />\\r\\n    <meta name=\"Keywords\" content=\"一品兵王,一品兵王全文阅读,一品兵王最新章节\" />\\r\\n  \\r\\n  <link href=\"http://img.17k.com/2015/skin/bookhome.css\" rel=\"stylesheet\" type=\"text/css\" />\\r\\n  <script type=\"text/javascript\" src=\"http://img.17k.com/2015/js/subject/book.js\"></script>\\r\\n  <script type=\"text/javascript\" src=\"http://img.17k.com/2015/js/subject/home.js\"></script>\\r\\n</head>\\r\\n<body>\\r\\n\\r\\n<div class=\"Header1\">\\n\\t<div class=\"cont_box\">\\n\\t\\t<dl class=\"nav\" id=\"Q_loginBar1\">\\n\\t\\t\\t<dd class=\"login\">\\n\\t\\t\\t\\t<span class=\"icon\"></span>\\n\\t\\t\\t\\t<a href=\"javascript:Q.login(function(){Q.setIndexLoginInfo(\\'Q_loginBar1\\')});void(0)\"> 登录</a> &nbsp;&nbsp;|&nbsp;&nbsp; <a href=\"http://passport.17k.com/register\">注册</a>\\n\\t\\t\\t</dd>\\n\\t\\t\\t<dd class=\"histroy\">\\n\\t\\t\\t\\t<div class=\"tit\">\\n\\t\\t\\t\\t\\t<span class=\"icon\"></span>\\n\\t\\t\\t\\t\\t<a href=\"javascript:Q.login(function(){Q.setIndexLoginInfo(\\'Q_loginBar1\\')});void(0)\">看过</a>\\n\\t\\t\\t\\t</div>\\n\\t\\t\\t\\t<div class=\"cont\">\\n\\t\\t\\t\\t\\t<div class=\"logout\">\\n\\t\\t\\t\\t\\t\\t<p>Duang, 您还未登录</p>\\n\\t\\t\\t\\t\\t</div>\\n\\t\\t\\t\\t</div>\\n\\t\\t\\t</dd>\\n\\t\\t\\t<dd class=\"booklib\">\\n\\t\\t\\t\\t<div class=\"tit\">\\n\\t\\t\\t\\t\\t<span class=\"icon\"></span>\\n\\t\\t\\t\\t\\t<a href=\"javascript:Q.login(function(){Q.setIndexLoginInfo(\\'Q_loginBar1\\')});void(0)\">书架</a>\\n\\t\\t\\t\\t</div>\\n\\t\\t\\t\\t<div class=\"cont\">\\n\\t\\t\\t\\t\\t<div class=\"logout\">\\n\\t\\t\\t\\t\\t\\t<p>Duang, 您还未登录</p>\\n\\t\\t\\t\\t\\t</div>\\n\\t\\t\\t\\t</div>\\n\\t\\t\\t</dd>\\n\\t\\t\\t<dd class=\"message\">\\n\\t\\t\\t\\t<div class=\"tit\">\\n\\t\\t\\t\\t\\t<span class=\"icon\"></span>\\n\\t\\t\\t\\t\\t<a href=\"javascript:Q.login(function(){Q.setIndexLoginInfo(\\'Q_loginBar1\\')});void(0)\">消息</a>\\n\\t\\t\\t\\t</div>\\n\\t\\t\\t\\t<div class=\"cont\">\\n\\t\\t\\t\\t\\t<div class=\"logout\">\\n\\t\\t\\t\\t\\t\\t<p>Duang, 您还未登录</p>\\n\\t\\t\\t\\t\\t</div>\\n\\t\\t\\t\\t</div>\\n\\t\\t\\t</dd>\\n\\t\\t\\t<dd class=\"write\">\\n\\t\\t\\t\\t<span class=\"icon\"></span>\\n\\t\\t\\t\\t<a target=\"_blank\" href=\"http://author.17k.com/author/getAuthorInfo.action\">写书</a>\\n\\t\\t\\t</dd>\\n\\t\\t\\t<dd class=\"recharge\">\\n\\t\\t\\t\\t<span class=\"icon\"></span>\\n\\t\\t\\t\\t<a target=\"_blank\" href=\"http://pay.17k.com/show/baopay\">充值</a>\\n\\t\\t\\t</dd>\\n<!--\\t\\t\\t<script type=\"text/javascript\">\\n\\t\\t\\t\\tQ.setIndexLoginInfo(\\'Q_loginBar1\\');\\n\\t\\t\\t</script>-->\\n\\t\\t</dl>\\n\\n\\t\\t<a class=\"logo\" href=\"http://17k.com/\"></a>\\n\\n\\t\\t<form class=\"so\" target=\"_blank\" action=\"http://search.17k.com/search.xhtml\">\\n\\t\\t\\t<input type=\"hidden\" name=\"c.st\" value=\"0\" />\\n\\t\\t\\t<input value=\"天庭地府微信群\\n\" class=\"q\" type=\"text\" name=\"c.q\" onfocus=\"this.value==this.defaultValue&&this.select()\" />\\n\\t\\t\\t<input class=\"m\" type=\"submit\" value=\"搜索\" />\\n\\t\\t</form>\\n\\t</div>\\n</div>\\n\\r\\n\\r\\n<div class=\"Nav\">\\n\\t<div>\\n\\t\\t<a target=\"_blank\" href=\"http://www.17k.com/\"><span>首页</span></a>\\n\\t\\t<a target=\"_blank\" href=\"http://top.17k.com/\"><span>排行榜</span></a>\\n\\t\\t<a target=\"_blank\" href=\"http://all.17k.com/lib/book.html\"><span>分类</span></a>\\n\\t\\t<a target=\"_blank\" href=\"http://zhuanti.17k.com/subject/2017dsip/pc/index.html\"><span>IP大赛</span></a>\\n\\t\\t<a target=\"_blank\" href=\"http://www.17k.com/man/\"><span>男生频道</span></a>\\n\\t\\t<a target=\"_blank\" href=\"http://mm.17k.com/\"><span>女生频道</span></a>\\n\\t\\t<a target=\"_blank\" href=\"http://www.17k.com/gexing/\"><span>个性频道</span></a>\\n\\t\\t<!-- <a target=\"_blank\" href=\"http://zhuanti.17k.com/wwls/pc/index.html\"><span>网文联赛</span></a> -->\\n\\t\\t<a target=\"_blank\" href=\"http://www.17k.com/adaptation/index.html\"><span>IP改编</span></a>\\n\\t\\t<a target=\"_blank\" href=\"http://www.17k.com/mianfei/\"><span>免费</span></a>\\n\\t\\t<a target=\"_blank\" href=\"http://www.17k.com/quanben/\"><span>完本</span></a>\\n\\t\\t<a target=\"_blank\" href=\"http://bbs.17k.com\"><span>论坛</span></a>\\n\\t\\t<a class=\"mobile\" href=\"http://www.17k.com/download/\"><span>手机端</span>\\n\\t\\t\\t<img class=\"hover\" src=\"http://img.17k.com/channel/ebook/erweima2.jpg\" srcset=\"http://img.17k.com/channel/ebook/erweima2@2x.jpg 2x\" alt=\"微信二维码\" />\\n\\t\\t</a>\\n\\t\\t<img src=\"http://img.17k.com/2015/skin/crown.gif\" class=\"icon_crown\" />\\n                <a target=\"_blank\" href=\"http://wan.17k.com/jump/nyfpl71\"><span>游戏中心</span></a>\\n\\t\\t<script type=\"text/javascript\">\\n\\t\\t\\tQ.floatNav(Q.lastTag(\\'div\\'));\\n\\t\\t</script>\\n\\t</div>\\n</div>\\n\\r\\n\\r\\n<div class=\"Banner_ad\" id=\"BAIDU_banner\"></div>\\r\\n<div class=\"infoPath\">\\r\\n  <div>\\r\\n    <a href=\"/\" target=\"_blank\">17k小说网</a> &gt;\\r\\n    <a href=\"/man\" target=\"_blank\">男频</a>\\r\\n                                           &gt;\\r\\n    <a href=\"http://all.17k.com/lib/book/_3_______1.html\" target=\"_blank\">都市小说</a>\\r\\n                                           &gt;\\r\\n    <a class=\"red\" href=\"/book/2811930.html\">一品兵王</a>\\r\\n    <span>[书号2811930]</span>\\r\\n  </div>\\r\\n</div>\\r\\n<div class=\"Main Hengfu\"></div>\\r\\n<div class=\"Main\">\\r\\n  <div class=\"bLeft\">\\r\\n    <div class=\"BookInfo\">\\r\\n      \\r\\n      <div class=\"Props\">\\r\\n        <div id=\"bookCover\" class=\"cover\">\\r\\n          <a href=\"/list/2811930.html\" target=\"_blank\"><img class=\"book\" src=\"http://img.17k.com/images/bookcover/2018/14059/70/2811930-1526283612000.jpg\"\\r\\n                                                                       alt=\"一品兵王\" /></a>\\r\\n        </div>\\r\\n        <dl class=\"Bar\">\\r\\n          <dt><a href=\"http://www.17k.com/list/2811930.html\" target=\"_blank\">点击阅读</a></dt>\\r\\n          <dd class=\"s\" onclick=\"Q.reward(\\'flower\\')\">送鲜花</dd>\\r\\n          <dd class=\"g\" onclick=\"Q.reward(\\'printMark\\')\">盖个章</dd>\\r\\n          <dd class=\"p\" onclick=\"Q.reward(\\'hongbao\\')\">赏红包</dd>\\r\\n          <dd class=\"z\" onclick=\"Q.reward(\\'newProp\\')\">装扮</dd>\\r\\n        </dl>\\r\\n      </div>\\r\\n      \\r\\n      <div class=\"Info Sign\">\\r\\n        <h1><a href=\"/list/2811930.html\" target=\"_blank\">一品兵王</a></h1>\\r\\n        <div class=\"label\">\\r\\n                                <a title=\"连载小说\" target=\"_blank\" href=\"http://all.17k.com/lib/book/2_0_0_0_1_0_0_0_1.html\"><span\\r\\n                class=\"green\">连载小说</span></a>\\r\\n          \\r\\n                      <a href=\"http://www.17k.com/mianfei/\" target=\"_blank\" title=\"免费小说\"><span class=\"blue\">免费小说</span></a>\\r\\n                  </div>\\r\\n        <dl class=\"Tab\">\\r\\n          <dt class=\"tit\">\\r\\n              <em>更新:\\r\\n                                        2018-06-12 20:48                                </em>\\r\\n            <span class=\"now\">内容介绍</span>\\r\\n            <span class=\"\">作品信息</span>\\r\\n          </dt>\\r\\n          <dd>\\r\\n            <div class=\"cont\" style=\"display: block;\">\\r\\n              <a href=\"http://www.17k.com/list/2811930.html\" target=\"_blank\">&#12288;&#12288;一品兵王林烽回乡探亲，不料掀起层层风波。不断斗智斗勇，无惧迎面而来的种种困难，逐步踏上巅峰！</a>\\r\\n            </div>\\r\\n            <div class=\"cont\" style=\"display: none;\">\\r\\n              <table width=\"100%\" cellpadding=\"5\" cellspacing=\"0\">\\r\\n                <tr>\\r\\n                  <th>授权级别：</th>\\r\\n                  <td><span class=\"red\">签约作品</span></td>\\r\\n                  <th>作品类别：</th>\\r\\n                  <td><a href=\"http://all.17k.com/lib/book/_3_3______1.html\" target=\"_blank\">都市生活</a></td>\\r\\n                </tr>\\r\\n                <tr>\\r\\n                  <th>\\r\\n                    <nobr>本周点击：</nobr>\\r\\n                  </th>\\r\\n                  <td id=\"weekclickCount\">0</td>\\r\\n                  <th>\\r\\n                    <nobr>本月点击：</nobr>\\r\\n                  </th>\\r\\n                  <td id=\"monthclickCount\">0</td>\\r\\n                </tr>\\r\\n                <tr>\\r\\n                  <th>本周红包：</th>\\r\\n                  <td id=\"hb_week\">0</td>\\r\\n                  <th>本月红包：</th>\\r\\n                  <td id=\"hb_month\">0</td>\\r\\n                </tr>\\r\\n                <tr>\\r\\n                  <th>本周盖章：</th>\\r\\n                  <td id=\"stamp_week\">0</td>\\r\\n                  <th>本月盖章：</th>\\r\\n                  <td id=\"stamp_month\">0</td>\\r\\n                </tr>\\r\\n                <tr>\\r\\n                  <th>本周鲜花：</th>\\r\\n                  <td id=\"flower_week\">0</td>\\r\\n                  <th>本月鲜花：</th>\\r\\n                  <td id=\"flower_month\">0</td>\\r\\n                </tr>\\r\\n                <tr class=\"label\">\\r\\n                  <th>标签：</th>\\r\\n                  <td colspan=\"3\">\\r\\n                                                                  <a href=\"http://search.17k.com/search.xhtml?c.st=3&c.q=兵王\"\\r\\n                           target=\"_blank\"><span>兵王</span></a>\\r\\n                                              <a href=\"http://search.17k.com/search.xhtml?c.st=3&c.q=装逼打脸\"\\r\\n                           target=\"_blank\"><span>装逼打脸</span></a>\\r\\n                                              <a href=\"http://search.17k.com/search.xhtml?c.st=3&c.q=励志\"\\r\\n                           target=\"_blank\"><span>励志</span></a>\\r\\n                                                            </td>\\r\\n                </tr>\\r\\n              </table>\\r\\n            </div>\\r\\n          </dd>\\r\\n          <script type=\"text/javascript\">\\r\\n            (function(dl) {\\r\\n              Q.tab(dl.getElementsByTagName(\\'dt\\')[0].getElementsByTagName(\\'span\\'), Q(\\'.cont\\', dl.getElementsByTagName(\\'dd\\')[0]))\\r\\n            }(Q.lastTag(\\'dl\\')));\\r\\n          </script>\\r\\n        </dl>\\r\\n        <div class=\"BookData\">\\r\\n          <div class=\"btns\">\\r\\n            <a class=\"shoucang\" href=\"javascript:Q.bookshelf()\">收藏</a>\\r\\n            <a class=\"shuqian\" href=\"javascript:Q.bookmark()\">书签</a>\\r\\n            <a class=\"fenxiang jiathis\" href=\"\">分享</a>\\r\\n          </div>\\r\\n          <p>已有<em class=\"blue\" id=\"howmuchreadBook\">加载中...</em>人次读过此书...</p>\\r\\n          <p>已写<em class=\"red\">201169</em>字...</p>\\r\\n                                    <p>已连续更新<em class=\"green\">1</em>天</p>\\r\\n                      \\r\\n                  </div>\\r\\n        \\r\\n        <script type=\"text/javascript\" src=\"http://img.17k.com/2015/js/bookhome/BookRefer.js\"></script>\\r\\n        <div id=\"DanGao_POP\" class=\"DanGao\"><span class=\"close\"\\r\\n                                                  onclick=\"this.parentNode.style.display=\\'none\\'\">关闭X</span></div>\\r\\n      </div>\\r\\n    </div>\\r\\n    <dl class=\"NewsChapter\">\\r\\n      <dt>\\r\\n        <a class=\"btn\" target=\"_blank\" href=\"http://www.17k.com/download/\">手机阅读17K</a>\\r\\n        <span class=\"tit\">最新章节</span>\\r\\n      </dt>\\r\\n      <dd>\\r\\n        <ul>\\r\\n                      <li>\\r\\n              <span class=\"time\">更新时间：2018-06-12 20:48</span>\\r\\n              最新免费章节：<a\\r\\n                href=\"http://www.17k.com/chapter/2811930/35208624.html\"\\r\\n                target=\"_blank\">挑战</a>\\r\\n            </li>\\r\\n                            </ul>\\r\\n      </dd>\\r\\n    </dl>\\r\\n\\r\\n    <!--红包-->\\r\\n    <dl class=\"Hongbao\">\\r\\n      <dt class=\"title\"><a class=\"more\" target=\"_blank\" href=\"http://cms.17k.com/news/2285.html\">+\\r\\n                                                                                                 查看规则</a><span>红包专区</span></dt>\\r\\n      <dd class=\"context\">\\r\\n        <div class=\"hb\">\\r\\n          <p class=\"f1\">本周红包排名</p>\\r\\n          <p class=\"f2\" id=\"hongbaorank\">第 <span></span> 位</p>\\r\\n          <a class=\"btn\" href=\"javascript:Q.reward(\\'hongbao\\')\">我要打赏</a>\\r\\n          <p id=\"hongbaoweekCount\" class=\"f3\" style=\"display:none;\">共计0元</p>\\r\\n          <p id=\"hongbaoscore\"></p>\\r\\n        </div>\\r\\n        <dl class=\"news\">\\r\\n          <dt>红包最新动态</dt>\\r\\n          <dd>\\r\\n            <ul id=\"hongbaomessage\"></ul>\\r\\n          </dd>\\r\\n        </dl>\\r\\n        <div class=\"portrait\" id=\"hongbaotuhao\"></div>\\r\\n      </dd>\\r\\n    </dl>\\r\\n\\r\\n    <!--打赏榜单-->\\r\\n    <dl class=\"PiaoyouTop\">\\r\\n      <dt>\\r\\n        <label onclick=\"getPiaoYouTop(this,0)\" class=\"now\">粉丝荣誉榜</label>\\r\\n        <label onclick=\"getPiaoYouTop(this,4)\">红包<span id=\"hb_total\">(0)</span></label>\\r\\n        <label onclick=\"getPiaoYouTop(this,3)\">盖章<span id=\"stamp_total\">(0)</span></label>\\r\\n        <label onclick=\"getPiaoYouTop(this,2)\">鲜花<span id=\"flower_total\">(0)</span></label>\\r\\n      </dt>\\r\\n      <dd>\\r\\n        <ul id=\"PiaoyouTop\"></ul>\\r\\n        <a class=\"MoreAll\" target=\"_blank\" href=\"/book/voteRank.action?bookId=2811930\">本书更多粉丝、红包、盖章、鲜花排名</a>\\r\\n        <script type=\"text/javascript\" src=\"http://img.17k.com/2015/js/bookhome/PiaoyouTop.js\"></script>\\r\\n      </dd>\\r\\n    </dl>\\r\\n\\r\\n    <!-- 查看是否有投票 -->\\r\\n    \\r\\n    \\r\\n    <div class=\"comment\">\\r\\n      <div class=\"TIT\">\\r\\n\\t\\t<span class=\"more\">\\r\\n\\t\\t\\t<span class=\"admin\">管理员</span>\\r\\n\\t\\t\\t<span id=\"Comment_adminList\">暂无管理员</span>\\r\\n\\t\\t\\t<a id=\"Comment_doadmin\" href=\"javascript:Q.comment.doadmin()\" class=\"sq\">申请管理员</a>\\r\\n\\t\\t</span>\\r\\n        <h2>《一品兵王》评论区</h2>\\r\\n      </div>\\r\\n      <div class=\"TAB\">\\r\\n        <div class=\"tit-ckbut\">\\r\\n          <a id=\"comment_more1\" href=\"http://comment.17k.com/topic/2811930\"\\r\\n             target=\"_blank\">查看全部评论&gt;&gt;</a>\\r\\n          <a href=\"javascript:Q.scrollTo(Q(\\'.comment\\')[1])\" class=\"btn\">发表评论</a>\\r\\n        </div>\\r\\n        <div class=\"tit-tab\" id=\"comment_tab\">\\r\\n          <a href=\"javascript:Q.comment.loadList({type:\\'all\\'})\" class=\"now\">全部评论</a>\\r\\n          <a href=\"javascript:Q.comment.loadList({type:\\'isLong\\'})\">长评</a>\\r\\n          <a href=\"javascript:Q.comment.loadList({type:\\'prime\\'})\">精华</a>\\r\\n          <a href=\"javascript:Q.comment.loadList({type:\\'author\\'})\">作者评论</a>\\r\\n        </div>\\r\\n      </div>\\r\\n      <div class=\"ORDER\" id=\"comment_tab2\">\\r\\n        <a href=\"javascript:Q.comment.loadList({order:1})\" class=\"now\">按最新发表排序</a>\\r\\n        <a href=\"javascript:Q.comment.loadList({order:2})\">按热门回应排序</a>\\r\\n      </div>\\r\\n      <div class=\"CONT\" id=\"comment_list\">\\r\\n        <div class=\"loading1\"></div>\\r\\n      </div>\\r\\n      <div class=\"MORE\">\\r\\n        <a class=\"more\" id=\"comment_more2\" href=\"http://comment.17k.com/topic/2811930\" target=\"_blank\">查看全部评论&gt;&gt;</a>\\r\\n      </div>\\r\\n    </div>\\r\\n    <div class=\"comment\">\\r\\n      <div class=\"TIT\">\\r\\n        <h2>发表评论</h2>\\r\\n      </div>\\r\\n      <div class=\"USER\" id=\"comment_input\">\\r\\n        <div class=\"logout\">您还没有登录，不能发表评论，马上 <a href=\"javascript:Q.login()\">[登录]</a> 或 <a\\r\\n            href=\"http://passport.17k.com/register\" target=\"_blank\">[注册]</a></div>\\r\\n      </div>\\r\\n      <div class=\"Topic_input\" style=\"display:none;\">\\r\\n        <div class=\"loading1\"></div>\\r\\n      </div>\\r\\n    </div>\\r\\n    <script type=\"text/javascript\" src=\"http://img.17k.com/2015/js/bookhome/comment.js\"></script>\\r\\n  </div>\\r\\n  <div class=\"bRight\">\\r\\n    <!-- 联赛 -->\\r\\n    <div id=\"Liansai\" class=\"liansai\" style=\"display:none;\"></div>\\r\\n    <!--蛋糕-->\\r\\n    <div id=\"DanGao_right\" class=\"DanGao\"></div>\\r\\n    <!--作者信息-->\\r\\n    <div class=\"AuthorInfo\">\\r\\n      <div class=\"author\">\\r\\n        <a href=\"/zuozhe/61085360\" target=\"_blank\"><img\\r\\n            src=\"http://userapi.17k.com/u61085360_50.img\" alt=\"致命黑球\" /></a>\\r\\n        <span class=\"sign\">作者</span>\\r\\n        <a class=\"name\" href=\"/zuozhe/61085360\" target=\"_blank\">致命黑球</a><br />\\r\\n        <a href=\"/zuozhe/61085360\" target=\"_blank\">进入作者首页</a>\\r\\n      </div>\\r\\n      <dl class=\"modle\">\\r\\n        <dt>\\r\\n          <label><span>本书荣誉</span></label>\\r\\n        </dt>\\r\\n        <dd>\\r\\n          <table class=\"data\" cellspacing=\"1\" width=\"100%\">\\r\\n            <tbody>\\r\\n            <tr>\\r\\n              <td>\\r\\n                <a href=\"/book/voteRank.action?bookId=2811930&type=hb\" target=\"_blank\">\\r\\n                  <span id=\"hb_total_fold\">0</span>\\r\\n                  红包\\r\\n                </a>\\r\\n              </td>\\r\\n              <td><a href=\"/book/voteRank.action?bookId=2811930\" target=\"_blank\"><span\\r\\n                    id=\"fansScore\">...</span>粉丝值</a></td>\\r\\n              <td><a target=\"_blank\" href=\"http://comment.17k.com/topic/2811930\"><span\\r\\n                    id=\"topicCount\">0</span>评论</a></td>\\r\\n            </tr>\\r\\n            </tbody>\\r\\n          </table>\\r\\n        </dd>\\r\\n      </dl>\\r\\n      <dl class=\"modle\">\\r\\n        <dt>\\r\\n          <label><span>作者公告</span></label>\\r\\n        </dt>\\r\\n        <dd>\\r\\n          <p>  </p>\\r\\n                  </dd>\\r\\n      </dl>\\r\\n    </div>\\r\\n    <script type=\"text/javascript\">\\r\\n      (function() {\\r\\n        //高耦合 更新右侧数据同时 还要 控制中间投票区的显示\\r\\n        var url = \"/bookservice/initbook.action\";\\r\\n        var userId = Q.loginInfo().userId;\\r\\n        var pamar = {\\r\\n          \"userId\": userId,\\r\\n          \"valideVoteId\": 0,\\r\\n          \"bookId\": Q.bookid\\r\\n        };\\r\\n        Q.ajax(url, function(data) {\\r\\n          //粉丝值\\r\\n          Q(\"#fansScore\").html(Q.printNum(data[\\'fansScore\\']));\\r\\n          //投票\\r\\n          if(userId) {\\r\\n            var isVoted = data[\\'isVoted\\'];\\r\\n            var voteBox = Q(\"#voteBox\");\\r\\n            var voteResultBox = Q(\"#voteResultBox\");\\r\\n            if(isVoted) {\\r\\n              voteBox.css({display: \\'none\\'});\\r\\n              voteResultBox.css({display: \\'block\\'});\\r\\n            } else {\\r\\n              voteBox.css({display: \\'block\\'});\\r\\n              voteResultBox.css({display: \\'none\\'});\\r\\n            }\\r\\n          }\\r\\n        }, pamar);\\r\\n      }());\\r\\n    </script>\\r\\n    <div id=\"LimitFree\"></div>\\r\\n    <div class=\"RAD\" id=\"BAIDU_right_banner1\"></div>\\r\\n    <!--作者其它作品-->\\r\\n    <div id=\"AuthorBooks\"></div>\\r\\n    <!--榜单-->\\r\\n    <div id=\"Toplist1\"></div>\\r\\n    <div id=\"Toplist2\"></div>\\r\\n    <div id=\"Toplist3\"></div>\\r\\n  </div>\\r\\n  <div class=\"clear\"></div>\\r\\n</div>\\r\\n\\r\\n<div class=\"Footer\">\\n\\t<div class=\"footer_nav\">\\n\\t\\t<a rel=\"nofollow\" target=\"_blank\" href=\"http://www.17k.com/aboutus/\">关于17k.com</a>&#12288;|&#12288;\\n\\t\\t<a rel=\"nofollow\" target=\"_blank\" href=\"http://www.17k.com/aboutus/Cooperation.html\">商务合作</a>&#12288;|&#12288;\\n\\t\\t<a target=\"_blank\" href=\"http://www.17k.com/aboutus/link.html\">友情链接</a>&#12288;|&#12288;\\n\\t\\t<a rel=\"nofollow\" target=\"_blank\" href=\"http://www.17k.com/Simple/contents/helpCenter/helpCenter.htm\">帮助中心</a>&#12288;|&#12288;\\n\\t\\t<a rel=\"nofollow\" target=\"_blank\" href=\"http://www.17k.com/Simple/contents/login/Rdme.html\">用户守则</a>&#12288;|&#12288;\\n\\t\\t<a target=\"_blank\" href=\"http://www.17k.com/about/sitemap.html\">网站地图</a>&#12288;|&#12288;\\n\\t\\t<a rel=\"nofollow\" target=\"_blank\" href=\"http://www.17k.com/recruitment/index.html\">诚聘精英</a>&#12288;|&#12288;\\n\\t\\t<a rel=\"nofollow\" target=\"_blank\" href=\"http://code.17k.com/\">17K开源</a>\\n\\t</div>\\n\\t<p>\\n\\t\\tCopyright (C) 2006-2015 www.17k.com All Rights Reserved 中文在线版权所有，\\n\\t\\t<a target=\"_blank\" href=\"http://www.17k.com/dushi/\">都市小说</a>、\\n\\t\\t<a target=\"_blank\" href=\"http://www.17k.com/xuanhuan/\">玄幻仙侠</a>、\\n\\t\\t<a target=\"_blank\" href=\"http://mm.17k.com/\">言情小说</a>等在线小说阅读网站，未经许可不得擅自转载本站内容。<br>\\n\\t\\t17k小说网所收录免费小说作品、社区话题、书友评论、用户上传文字、图片等其他一切内容均属用户个人行为，与17k小说网无关。--17K权利声明。<br>\\n\\t\\t\\n\\t\\t<a rel=\"nofollow\" target=\"_blank\" href=\"http://www.miibeian.gov.cn/\">京ICP证010590号</a>\\u3000京ICP备09030667号-5\\u3000\\u3000\\u3000京网文[2014]0917-217号\\u3000\\u3000新出审字[2009]366号\\u3000<br>\\n\\t\\t<a rel=\"nofollow\" target=\"_blank\" href=\"http://cms.17k.com/news/182.html\">新出网许（京）字045号</a>\\u3000北京市公安局备案号码：11010102000012<br>\\n\\t\\t违法和不良信息举报电话：010-51667567转8204 举报邮箱：tangyuanjubao@qq.com</p>\\n\\n\\n\\n\\t<p class=\"linkimg\">\\n\\t\\t<a href=\"https://ss.knet.cn/verifyseal.dll?sn=e13062011010041317xgep000000&amp;ct=df&amp;a=1&amp;pa=0.9085826601367444\" target=\"_blank\" kx_type=\"图标式\">\\n\\t\\t\\t<img src=\"http://rr.knet.cn/static/images/logo/cnnic.png\" alt=\"可信网站\">\\n\\t\\t</a>\\n\\t\\t<a rel=\"nofollow\" target=\"_blank\" href=\"http://www.bj.cyberpolice.cn/index.do\">\\n\\t\\t\\t<img src=\"http://img.17k.com/channel/nvxing/-2.jpg\" alt=\"网络110报警\">\\n\\t\\t</a>\\n\\t\\t<a href=\"http://v.pinpaibao.com.cn/authenticate/cert/?site=www.17k.com&at=business\" target=\"_blank\">\\n\\t\\t\\t<img src=\"http://static.anquan.org/static/outer/image/hy_124x47.png\" alt=\"安全联盟认证\" width=\"124\" height=\"47\">\\n\\t\\t</a>\\n\\t\\t<a rel=\"nofollow\" target=\"_blank\" href=\"http://net.china.com.cn/index.htm\">\\n\\t\\t\\t<img src=\"http://img.17k.com/channel/nvxing/-1.jpg\" alt=\"不良网站举报\">\\n\\t\\t</a>\\n\\t\\t<a rel=\"nofollow\" target=\"_blank\" href=\"http://www.bjwhzf.gov.cn/accuse.do\">\\n\\t\\t\\t<img src=\"http://img.17k.com/channel/nvxing/-3.jpg\" alt=\"北京文化市场行政执法队\">\\n\\t\\t</a>\\n\\t</p>\\n\\t<script type=\"text/javascript\">\\n\\t\\tQ.floatBar();\\n\\t</script>\\n</div>\\n<script type=\"text/javascript\" src=\"http://img.17k.com/2015/js/count.js\"></script>\\n\\r\\n<!--广告-->\\r\\n<script type=\"text/javascript\" src=\"http://cbjs.baidu.com/js/m.js\"></script>\\r\\n<script type=\"text/javascript\" src=\"http://img.17k.com/2015/js/ad/bookhome.js\"></script>\\r\\n</body>\\r\\n</html>\\r\\n'"
      ]
     },
     "execution_count": 6,
     "metadata": {},
     "output_type": "execute_result"
    }
   ],
   "source": [
    "a=requests.get('http://www.17k.com/book/2811930.html')\n",
    "a.text"
   ]
  },
  {
   "cell_type": "code",
   "execution_count": 7,
   "metadata": {},
   "outputs": [],
   "source": [
    "from lxml import etree"
   ]
  },
  {
   "cell_type": "code",
   "execution_count": 9,
   "metadata": {},
   "outputs": [
    {
     "data": {
      "text/plain": [
       "<Element html at 0x235744c5948>"
      ]
     },
     "execution_count": 9,
     "metadata": {},
     "output_type": "execute_result"
    }
   ],
   "source": [
    "tree=etree.HTML(a.text)\n",
    "tree"
   ]
  },
  {
   "cell_type": "code",
   "execution_count": 10,
   "metadata": {},
   "outputs": [
    {
     "name": "stdout",
     "output_type": "stream",
     "text": [
      "[<Element div at 0x235745abec8>]\n",
      "['http://17k.com/', 'http://www.17k.com/', 'http://top.17k.com/', 'http://all.17k.com/lib/book.html', 'http://zhuanti.17k.com/subject/2017dsip/pc/index.html', 'http://www.17k.com/man/', 'http://mm.17k.com/', 'http://www.17k.com/gexing/', 'http://www.17k.com/adaptation/index.html', 'http://www.17k.com/mianfei/', 'http://www.17k.com/quanben/', 'http://bbs.17k.com', 'http://www.17k.com/download/', 'http://wan.17k.com/jump/nyfpl71', '/', '/man', 'http://all.17k.com/lib/book/_3_______1.html', '/book/2811930.html', 'http://www.17k.com/aboutus/', 'http://www.17k.com/aboutus/Cooperation.html', 'http://www.17k.com/aboutus/link.html', 'http://www.17k.com/Simple/contents/helpCenter/helpCenter.htm', 'http://www.17k.com/Simple/contents/login/Rdme.html', 'http://www.17k.com/about/sitemap.html', 'http://www.17k.com/recruitment/index.html', 'http://code.17k.com/']\n"
     ]
    }
   ],
   "source": [
    "div=tree.xpath('//div[@class=\"Nav\"]')\n",
    "print(div)\n",
    "for i in div:\n",
    "    print(i.xpath('/html/body/div/div/a[@href]/@href'))"
   ]
  },
  {
   "cell_type": "markdown",
   "metadata": {},
   "source": [
    "# \n",
    "第二题"
   ]
  },
  {
   "cell_type": "code",
   "execution_count": 12,
   "metadata": {},
   "outputs": [],
   "source": [
    "import re"
   ]
  },
  {
   "cell_type": "code",
   "execution_count": 13,
   "metadata": {},
   "outputs": [
    {
     "name": "stdout",
     "output_type": "stream",
     "text": [
      "4\n",
      "2\n",
      "456\n"
     ]
    }
   ],
   "source": [
    "content='Hello 1234567 hahah 123 lalala 456'\n",
    "res=re.match('H.*\\d{3}(\\d{1})\\d{3}.*\\d{1}(\\d{1})\\d{1}.*\\s(\\d{3})',content)\n",
    "print(res.group(1))\n",
    "print(res.group(2))\n",
    "print(res.group(3))"
   ]
  },
  {
   "cell_type": "code",
   "execution_count": null,
   "metadata": {},
   "outputs": [],
   "source": []
  }
 ],
 "metadata": {
  "kernelspec": {
   "display_name": "Python 3",
   "language": "python",
   "name": "python3"
  },
  "language_info": {
   "codemirror_mode": {
    "name": "ipython",
    "version": 3
   },
   "file_extension": ".py",
   "mimetype": "text/x-python",
   "name": "python",
   "nbconvert_exporter": "python",
   "pygments_lexer": "ipython3",
   "version": "3.6.5"
  }
 },
 "nbformat": 4,
 "nbformat_minor": 2
}
